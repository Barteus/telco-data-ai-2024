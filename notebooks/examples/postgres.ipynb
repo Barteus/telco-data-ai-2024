{
 "cells": [
  {
   "cell_type": "code",
   "execution_count": 6,
   "id": "17ab8d7c-cacf-46d8-851f-b969d53f4459",
   "metadata": {
    "tags": []
   },
   "outputs": [
    {
     "name": "stdout",
     "output_type": "stream",
     "text": [
      "Collecting psycopg2-binary\n",
      "  Downloading psycopg2_binary-2.9.9-cp311-cp311-manylinux_2_17_x86_64.manylinux2014_x86_64.whl.metadata (4.4 kB)\n",
      "Downloading psycopg2_binary-2.9.9-cp311-cp311-manylinux_2_17_x86_64.manylinux2014_x86_64.whl (3.0 MB)\n",
      "\u001b[2K   \u001b[90m━━━━━━━━━━━━━━━━━━━━━━━━━━━━━━━━━━━━━━━━\u001b[0m \u001b[32m3.0/3.0 MB\u001b[0m \u001b[31m14.7 MB/s\u001b[0m eta \u001b[36m0:00:00\u001b[0ma \u001b[36m0:00:01\u001b[0m\n",
      "\u001b[?25hInstalling collected packages: psycopg2-binary\n",
      "Successfully installed psycopg2-binary-2.9.9\n"
     ]
    }
   ],
   "source": [
    "!pip install psycopg2-binary"
   ]
  },
  {
   "cell_type": "code",
   "execution_count": 7,
   "id": "22da661a-f2e6-4eb5-9b3f-03b426401f73",
   "metadata": {
    "tags": []
   },
   "outputs": [],
   "source": [
    "from sqlalchemy import create_engine, MetaData, Table, Column, Integer, String\n",
    "\n",
    "import os"
   ]
  },
  {
   "cell_type": "code",
   "execution_count": 11,
   "id": "c6e3be43-8e9c-4d8e-9606-eb98aafb182c",
   "metadata": {
    "tags": []
   },
   "outputs": [],
   "source": [
    "host = os.environ['PG_HOST']\n",
    "user = os.environ['PG_USER']\n",
    "password = os.environ['PG_PASSWORD']\n",
    "db = os.environ['PG_DATABASE']\n",
    "\n",
    "engine = create_engine(f\"postgresql://{user}:{password}@{host}/{db}\", echo=True)"
   ]
  },
  {
   "cell_type": "code",
   "execution_count": 12,
   "id": "134f66c2-282f-4f33-804e-eb975a3489cc",
   "metadata": {
    "tags": []
   },
   "outputs": [],
   "source": [
    "meta = MetaData()\n",
    "\n",
    "students = Table(\n",
    "   'students', meta, \n",
    "   Column('id', Integer, primary_key = True), \n",
    "   Column('name', String), \n",
    "   Column('lastname', String),\n",
    ")"
   ]
  },
  {
   "cell_type": "code",
   "execution_count": 13,
   "id": "5cba6855-0aa6-4171-97fc-957ad627da76",
   "metadata": {
    "tags": []
   },
   "outputs": [
    {
     "name": "stdout",
     "output_type": "stream",
     "text": [
      "2024-02-21 15:31:47,405 INFO sqlalchemy.engine.Engine select pg_catalog.version()\n",
      "2024-02-21 15:31:47,406 INFO sqlalchemy.engine.Engine [raw sql] {}\n",
      "2024-02-21 15:31:47,415 INFO sqlalchemy.engine.Engine select current_schema()\n",
      "2024-02-21 15:31:47,417 INFO sqlalchemy.engine.Engine [raw sql] {}\n",
      "2024-02-21 15:31:47,423 INFO sqlalchemy.engine.Engine show standard_conforming_strings\n",
      "2024-02-21 15:31:47,425 INFO sqlalchemy.engine.Engine [raw sql] {}\n",
      "2024-02-21 15:31:47,428 INFO sqlalchemy.engine.Engine BEGIN (implicit)\n",
      "2024-02-21 15:31:47,435 INFO sqlalchemy.engine.Engine SELECT pg_catalog.pg_class.relname \n",
      "FROM pg_catalog.pg_class JOIN pg_catalog.pg_namespace ON pg_catalog.pg_namespace.oid = pg_catalog.pg_class.relnamespace \n",
      "WHERE pg_catalog.pg_class.relname = %(table_name)s AND pg_catalog.pg_class.relkind = ANY (ARRAY[%(param_1)s, %(param_2)s, %(param_3)s, %(param_4)s, %(param_5)s]) AND pg_catalog.pg_table_is_visible(pg_catalog.pg_class.oid) AND pg_catalog.pg_namespace.nspname != %(nspname_1)s\n",
      "2024-02-21 15:31:47,436 INFO sqlalchemy.engine.Engine [generated in 0.00130s] {'table_name': 'students', 'param_1': 'r', 'param_2': 'p', 'param_3': 'f', 'param_4': 'v', 'param_5': 'm', 'nspname_1': 'pg_catalog'}\n",
      "2024-02-21 15:31:47,444 INFO sqlalchemy.engine.Engine COMMIT\n"
     ]
    }
   ],
   "source": [
    "meta.create_all(engine)"
   ]
  },
  {
   "cell_type": "code",
   "execution_count": null,
   "id": "87774be1-687a-4e2a-9453-d9f1c6fab901",
   "metadata": {},
   "outputs": [],
   "source": []
  }
 ],
 "metadata": {
  "kernelspec": {
   "display_name": "Python 3 (ipykernel)",
   "language": "python",
   "name": "python3"
  },
  "language_info": {
   "codemirror_mode": {
    "name": "ipython",
    "version": 3
   },
   "file_extension": ".py",
   "mimetype": "text/x-python",
   "name": "python",
   "nbconvert_exporter": "python",
   "pygments_lexer": "ipython3",
   "version": "3.11.6"
  }
 },
 "nbformat": 4,
 "nbformat_minor": 5
}
